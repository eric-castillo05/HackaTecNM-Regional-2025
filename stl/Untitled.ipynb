{
 "cells": [
  {
   "cell_type": "code",
   "execution_count": 11,
   "id": "30583644-0282-48ca-832c-3423982e083e",
   "metadata": {},
   "outputs": [
    {
     "ename": "OSError",
     "evalue": "PortAudio library not found",
     "output_type": "error",
     "traceback": [
      "\u001b[31m---------------------------------------------------------------------------\u001b[39m",
      "\u001b[31mOSError\u001b[39m                                   Traceback (most recent call last)",
      "\u001b[36mCell\u001b[39m\u001b[36m \u001b[39m\u001b[32mIn[11]\u001b[39m\u001b[32m, line 2\u001b[39m\n\u001b[32m      1\u001b[39m \u001b[38;5;66;03m# @title Grabar Audio y Guardar como MP3 en Jupyter\u001b[39;00m\n\u001b[32m----> \u001b[39m\u001b[32m2\u001b[39m \u001b[38;5;28;01mimport\u001b[39;00m\u001b[38;5;250m \u001b[39m\u001b[34;01msounddevice\u001b[39;00m\u001b[38;5;250m \u001b[39m\u001b[38;5;28;01mas\u001b[39;00m\u001b[38;5;250m \u001b[39m\u001b[34;01msd\u001b[39;00m\n\u001b[32m      3\u001b[39m \u001b[38;5;28;01mfrom\u001b[39;00m\u001b[38;5;250m \u001b[39m\u001b[34;01mscipy\u001b[39;00m\u001b[34;01m.\u001b[39;00m\u001b[34;01mio\u001b[39;00m\u001b[34;01m.\u001b[39;00m\u001b[34;01mwavfile\u001b[39;00m\u001b[38;5;250m \u001b[39m\u001b[38;5;28;01mimport\u001b[39;00m write\n\u001b[32m      4\u001b[39m \u001b[38;5;28;01mfrom\u001b[39;00m\u001b[38;5;250m \u001b[39m\u001b[34;01mpydub\u001b[39;00m\u001b[38;5;250m \u001b[39m\u001b[38;5;28;01mimport\u001b[39;00m AudioSegment\n",
      "\u001b[36mFile \u001b[39m\u001b[32m~/Documents/dev/HackaTecNM-Regional-2025/speech_to_text/.venv/lib/python3.12/site-packages/sounddevice.py:71\u001b[39m\n\u001b[32m     69\u001b[39m             \u001b[38;5;28;01mbreak\u001b[39;00m\n\u001b[32m     70\u001b[39m     \u001b[38;5;28;01melse\u001b[39;00m:\n\u001b[32m---> \u001b[39m\u001b[32m71\u001b[39m         \u001b[38;5;28;01mraise\u001b[39;00m \u001b[38;5;167;01mOSError\u001b[39;00m(\u001b[33m'\u001b[39m\u001b[33mPortAudio library not found\u001b[39m\u001b[33m'\u001b[39m)\n\u001b[32m     72\u001b[39m     _lib = _ffi.dlopen(_libname)\n\u001b[32m     73\u001b[39m \u001b[38;5;28;01mexcept\u001b[39;00m \u001b[38;5;167;01mOSError\u001b[39;00m:\n",
      "\u001b[31mOSError\u001b[39m: PortAudio library not found"
     ]
    }
   ],
   "source": [
    "# @title Grabar Audio y Guardar como MP3 en Jupyter\n",
    "import sounddevice as sd\n",
    "from scipy.io.wavfile import write\n",
    "from pydub import AudioSegment\n",
    "from IPython.display import Audio\n",
    "import os\n",
    "\n",
    "def record_and_save_mp3(duration=5, filename=\"output.mp3\", sample_rate=44100):\n",
    "    \"\"\"\n",
    "    Graba audio desde el micrófono y lo guarda como un archivo MP3.\n",
    "\n",
    "    Args:\n",
    "      duration (int): Duración de la grabación en segundos.\n",
    "      filename (str): Nombre del archivo MP3 de salida.\n",
    "      sample_rate (int): Tasa de muestreo.\n",
    "    \"\"\"\n",
    "    try:\n",
    "        # --- Paso 1: Grabar el audio en formato WAV temporalmente ---\n",
    "        temp_wav_file = \"temp_recording.wav\"\n",
    "        print(f\"🎤 Comenzando la grabación por {duration} segundos...\")\n",
    "        \n",
    "        # Graba el audio\n",
    "        recording = sd.rec(int(duration * sample_rate), samplerate=sample_rate, channels=2, dtype='int16')\n",
    "        sd.wait()  # Espera a que la grabación termine\n",
    "        \n",
    "        print(\"✅ Grabación finalizada.\")\n",
    "        \n",
    "        # Guarda la grabación como un archivo WAV\n",
    "        write(temp_wav_file, sample_rate, recording)\n",
    "        \n",
    "        # --- Paso 2: Convertir el archivo WAV a MP3 ---\n",
    "        print(f\"⚙️ Convirtiendo a MP3: {filename}...\")\n",
    "        sound = AudioSegment.from_wav(temp_wav_file)\n",
    "        sound.export(filename, format=\"mp3\")\n",
    "        \n",
    "        # --- Paso 3: Limpiar el archivo temporal ---\n",
    "        os.remove(temp_wav_file)\n",
    "        \n",
    "        print(f\"🎉 ¡Éxito! Audio guardado en '{filename}'\")\n",
    "        \n",
    "        # Devuelve el nombre del archivo y un reproductor para escucharlo\n",
    "        return filename, Audio(filename)\n",
    "\n",
    "    except Exception as e:\n",
    "        print(f\"Ocurrió un error: {e}\")\n",
    "        print(\"Asegúrate de tener un micrófono conectado y de que los permisos son correctos.\")\n",
    "        return None, None"
   ]
  },
  {
   "cell_type": "code",
   "execution_count": 12,
   "id": "9b4848d3-283c-4a70-88cf-63f6ca58ca2d",
   "metadata": {},
   "outputs": [
    {
     "ename": "NameError",
     "evalue": "name 'record_and_save_mp3' is not defined",
     "output_type": "error",
     "traceback": [
      "\u001b[31m---------------------------------------------------------------------------\u001b[39m",
      "\u001b[31mNameError\u001b[39m                                 Traceback (most recent call last)",
      "\u001b[36mCell\u001b[39m\u001b[36m \u001b[39m\u001b[32mIn[12]\u001b[39m\u001b[32m, line 2\u001b[39m\n\u001b[32m      1\u001b[39m \u001b[38;5;66;03m# Grabar audio durante 10 segundos\u001b[39;00m\n\u001b[32m----> \u001b[39m\u001b[32m2\u001b[39m file_path, audio_player = \u001b[43mrecord_and_save_mp3\u001b[49m(duration=\u001b[32m10\u001b[39m, filename=\u001b[33m\"\u001b[39m\u001b[33mmi_grabacion.mp3\u001b[39m\u001b[33m\"\u001b[39m)\n\u001b[32m      4\u001b[39m \u001b[38;5;66;03m# Muestra el reproductor para que puedas escuchar el resultado\u001b[39;00m\n\u001b[32m      5\u001b[39m \u001b[38;5;28;01mif\u001b[39;00m audio_player:\n",
      "\u001b[31mNameError\u001b[39m: name 'record_and_save_mp3' is not defined"
     ]
    }
   ],
   "source": [
    "# Grabar audio durante 10 segundos\n",
    "file_path, audio_player = record_and_save_mp3(duration=10, filename=\"mi_grabacion.mp3\")\n",
    "\n",
    "# Muestra el reproductor para que puedas escuchar el resultado\n",
    "if audio_player:\n",
    "    display(audio_player)\n",
    "\n",
    "# Ahora puedes usar la variable 'file_path' para pasarla a otra función\n",
    "if file_path:\n",
    "    print(f\"\\nUsando el archivo '{file_path}' en otra parte de mi código...\")\n",
    "    # mi_otra_funcion(file_path)"
   ]
  },
  {
   "cell_type": "code",
   "execution_count": 10,
   "id": "b3f61eaa-63ee-44b1-9146-6be4c00b2d0a",
   "metadata": {},
   "outputs": [
    {
     "ename": "ModuleNotFoundError",
     "evalue": "No module named 'faster_whisper'",
     "output_type": "error",
     "traceback": [
      "\u001b[31m---------------------------------------------------------------------------\u001b[39m",
      "\u001b[31mModuleNotFoundError\u001b[39m                       Traceback (most recent call last)",
      "\u001b[36mCell\u001b[39m\u001b[36m \u001b[39m\u001b[32mIn[10]\u001b[39m\u001b[32m, line 1\u001b[39m\n\u001b[32m----> \u001b[39m\u001b[32m1\u001b[39m \u001b[38;5;28;01mfrom\u001b[39;00m\u001b[38;5;250m \u001b[39m\u001b[34;01mfaster_whisper\u001b[39;00m\u001b[38;5;250m \u001b[39m\u001b[38;5;28;01mimport\u001b[39;00m WhisperModel\n\u001b[32m      3\u001b[39m model_size = \u001b[33m\"\u001b[39m\u001b[33mlarge-v3\u001b[39m\u001b[33m\"\u001b[39m\n\u001b[32m      5\u001b[39m \u001b[38;5;66;03m# Run on GPU with FP16\u001b[39;00m\n",
      "\u001b[31mModuleNotFoundError\u001b[39m: No module named 'faster_whisper'"
     ]
    }
   ],
   "source": [
    "from faster_whisper import WhisperModel\n",
    "\n",
    "model_size = \"large-v3\"\n",
    "\n",
    "# Run on GPU with FP16\n",
    "model = WhisperModel(model_size, device=\"cuda\", compute_type=\"float16\")\n",
    "\n",
    "# or run on GPU with INT8\n",
    "# model = WhisperModel(model_size, device=\"cuda\", compute_type=\"int8_float16\")\n",
    "# or run on CPU with INT8\n",
    "# model = WhisperModel(model_size, device=\"cpu\", compute_type=\"int8\")\n",
    "\n",
    "segments, info = model.transcribe(file_path, beam_size=5)\n",
    "\n",
    "print(\"Detected language '%s' with probability %f\" % (info.language, info.language_probability))\n",
    "\n",
    "for segment in segments:\n",
    "    print(\"[%.2fs -> %.2fs] %s\" % (segment.start, segment.end, segment.text))"
   ]
  },
  {
   "cell_type": "code",
   "execution_count": null,
   "id": "5a60091a-61e6-4c45-a9bb-c719ded57d20",
   "metadata": {},
   "outputs": [],
   "source": []
  }
 ],
 "metadata": {
  "kernelspec": {
   "display_name": "hackatecnm",
   "language": "python",
   "name": "hackatecnm"
  },
  "language_info": {
   "codemirror_mode": {
    "name": "ipython",
    "version": 3
   },
   "file_extension": ".py",
   "mimetype": "text/x-python",
   "name": "python",
   "nbconvert_exporter": "python",
   "pygments_lexer": "ipython3",
   "version": "3.12.7"
  }
 },
 "nbformat": 4,
 "nbformat_minor": 5
}
